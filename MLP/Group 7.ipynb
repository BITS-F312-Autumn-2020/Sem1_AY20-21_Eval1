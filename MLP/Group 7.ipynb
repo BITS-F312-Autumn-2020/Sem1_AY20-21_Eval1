{
 "cells": [
  {
   "cell_type": "markdown",
   "metadata": {},
   "source": [
    "**Homework1 brief**\n",
    "\n",
    "1. Write a Python code implementing a unit perceptron from scratch.\n",
    "*   Keep the number of inputs variable\n",
    "*   Train the perceptron to a dataset requiring binary classification.\n",
    "*   Use the Unified Learning Rule for training.\n",
    "*   Explore the use of Stochastic Gradient Descent to train your network.\n"
   ]
  },
  {
   "cell_type": "code",
   "execution_count": 1,
   "metadata": {},
   "outputs": [],
   "source": [
    "# Importing Required Libraries\n",
    "\n",
    "import math\n",
    "import numpy as np\n",
    "import pandas as pd\n",
    "import random\n",
    "from sklearn.metrics import confusion_matrix\n",
    "import matplotlib.pyplot as plt"
   ]
  },
  {
   "cell_type": "code",
   "execution_count": 2,
   "metadata": {},
   "outputs": [
    {
     "name": "stdout",
     "output_type": "stream",
     "text": [
      "(150, 15)\n",
      "(150, 1)\n",
      "(50, 15)\n",
      "(50, 1)\n"
     ]
    }
   ],
   "source": [
    "X_train = pd.read_csv('train_x.csv').to_numpy()\n",
    "y_train = pd.read_csv('train_y.csv').to_numpy()\n",
    "X_test = pd.read_csv('test_x.csv').to_numpy()\n",
    "y_test = pd.read_csv('test_y.csv').to_numpy()\n",
    "\n",
    "X_train = X_train[:, 1:]\n",
    "y_train = y_train[:, 1:]\n",
    "X_test = X_test[:, 1:]\n",
    "y_test = y_test[:, 1:]\n",
    "\n",
    "print(X_train.shape)\n",
    "print(y_train.shape)\n",
    "print(X_test.shape)\n",
    "print(y_test.shape)"
   ]
  },
  {
   "cell_type": "markdown",
   "metadata": {},
   "source": [
    "m_train / m_test = 150 : 50, i.e. 75 : 25"
   ]
  },
  {
   "cell_type": "code",
   "execution_count": 3,
   "metadata": {},
   "outputs": [],
   "source": [
    "def sigmoid(n):\n",
    "    return 1/(1+(np.exp(-n)))"
   ]
  },
  {
   "cell_type": "code",
   "execution_count": 4,
   "metadata": {},
   "outputs": [],
   "source": [
    "#Function will initialize W and b vectors as a zero vectors of required dimensions.\n",
    "def initialize_zeros(X):\n",
    "    num_cols = X.shape[1]\n",
    "    num_data = X.shape[0]\n",
    "\n",
    "    b = 1\n",
    "    W = np.zeros([num_cols, 1])\n",
    "    return W, b, num_data, num_cols"
   ]
  },
  {
   "cell_type": "code",
   "execution_count": 5,
   "metadata": {},
   "outputs": [],
   "source": [
    "#Function where actual learning takes place by the Unified Learning Rule\n",
    "\n",
    "def train_ULR(X_train, y_train, W, b, learning_rate):\n",
    "    #Loop to iterate over all the examples in training data\n",
    "    cost = 0\n",
    "    num_data = X_train.shape[0]\n",
    "    \n",
    "    for i in range(num_data):\n",
    "        temp = np.sum(np.dot(W.T, X_train[i])[0] + b)\n",
    "        if temp>=0:\n",
    "            y_pred = 1\n",
    "        else:\n",
    "            y_pred = 0\n",
    "        e = y_train[i] - y_pred\n",
    "        W = W + learning_rate * e * X_train[i].reshape(15,1)\n",
    "        b = b + learning_rate * e\n",
    "        cost = cost + (y_train[i] * math.log(sigmoid(temp)) + (1 - y_train[i]) * math.log(sigmoid(1 - temp)))\n",
    "    \n",
    "    cost = -1/num_data * cost\n",
    "    \n",
    "    return W, b, cost"
   ]
  },
  {
   "cell_type": "code",
   "execution_count": 6,
   "metadata": {},
   "outputs": [],
   "source": [
    "#Function to repeat train_ULR function\n",
    "def repeat_train(W, b, X_train, y_train, num_iter = 100, learning_rate = 1):\n",
    "    cost_list = []\n",
    "    for i in range(num_iter):\n",
    "        W, b, cost = train_ULR(X_train, y_train, W, b, learning_rate)\n",
    "        cost_list.append(cost)\n",
    "    return W, b, cost_list"
   ]
  },
  {
   "cell_type": "markdown",
   "metadata": {},
   "source": [
    "**Code to validate the calculated W_final and b_final**"
   ]
  },
  {
   "cell_type": "code",
   "execution_count": 7,
   "metadata": {},
   "outputs": [],
   "source": [
    "#Function which validates the obtained W and b values on the validation set\n",
    "#Could also use the acuracy_score function instead of this but ok\n",
    "def validation(X_test, y_test, W_final, b_final):\n",
    "    num_data = X_test.shape[0]\n",
    "    correct_pred = 0\n",
    "    y_pred = []\n",
    "    for i in range(num_data):\n",
    "        temp = np.sum(np.dot(W_final.T, X_test[i])[0] + b_final)\n",
    "        if temp>=0:\n",
    "            y_pred.append(1);\n",
    "        else:\n",
    "            y_pred.append(0);\n",
    "        if y_pred[i]==y_test[i]:\n",
    "            correct_pred = correct_pred+1\n",
    "    accuracy = correct_pred/num_data\n",
    "    return accuracy, y_pred"
   ]
  },
  {
   "cell_type": "code",
   "execution_count": 8,
   "metadata": {},
   "outputs": [],
   "source": [
    "W, b, num_data, num_cols = initialize_zeros(X_train)\n",
    "W_final, b_final, cost_list = repeat_train(W, b, X_train, y_train, 150, 0.0001)"
   ]
  },
  {
   "cell_type": "code",
   "execution_count": 9,
   "metadata": {},
   "outputs": [
    {
     "data": {
      "image/png": "[encoded data removed]",
      "text/plain": [
       "<Figure size 432x288 with 1 Axes>"
      ]
     },
     "metadata": {
      "needs_background": "light"
     },
     "output_type": "display_data"
    }
   ],
   "source": [
    "plt.plot(np.arange(0, len(cost_list)), cost_list)\n",
    "plt.title('Cost Function vs Epochs ULR')\n",
    "plt.xlabel(\"Epochs\")\n",
    "plt.ylabel('Cost Function')\n",
    "plt.show()"
   ]
  },
  {
   "cell_type": "code",
   "execution_count": 10,
   "metadata": {},
   "outputs": [
    {
     "name": "stdout",
     "output_type": "stream",
     "text": [
      "0.88\n",
      "[[22  6]\n",
      " [ 0 22]]\n"
     ]
    }
   ],
   "source": [
    "accuracy, y_pred1 = validation(X_test, y_test, W_final, b_final)\n",
    "cm1 = confusion_matrix(y_test, y_pred1)\n",
    "print(accuracy)\n",
    "print(cm1)"
   ]
  },
  {
   "cell_type": "markdown",
   "metadata": {},
   "source": [
    "**Stochastic Gradient Descent**"
   ]
  },
  {
   "cell_type": "code",
   "execution_count": 11,
   "metadata": {},
   "outputs": [],
   "source": [
    "def forward_prop(X, y, W, b):\n",
    "    num_data = X.shape[1]\n",
    "    z = sigmoid(np.dot(W.T, X.T) + b)\n",
    "    #The defined cost function is for binary cross entropy.\n",
    "    cost = np.squeeze((np.sum(-(np.array(y))*np.log(z)-(1-np.array(y))*np.log(1-z))))\n",
    "\n",
    "    dw = (1/num_data)*np.dot(X.T, (z-np.array(y)).T)\n",
    "    db = (1/num_data)*(np.sum(z-np.array(y)))\n",
    "    return cost, dw, db"
   ]
  },
  {
   "cell_type": "code",
   "execution_count": 12,
   "metadata": {},
   "outputs": [],
   "source": [
    "def train_SGD(X_train, y_train, num_iter, lr=0.025):\n",
    "    W, b, num_data, num_cols = initialize_zeros(X_train)\n",
    "    \n",
    "    costs = []\n",
    "\n",
    "    for i in range(num_iter):\n",
    "        for j in range(X_train.shape[0]):\n",
    "            cost, dw, db = forward_prop(X_train[j].reshape(1, X_train.shape[1]), y_train[j], W, b)\n",
    "            W = W - lr*dw\n",
    "            b = b - lr*db\n",
    "        \n",
    "        costs.append(cost)\n",
    "        \n",
    "        # if i%10==9:\n",
    "            \n",
    "        #    print(\"Cost at the end of iteration \" + str(i+1) + \": \" + str(cost))\n",
    "        if i==num_iter-1:\n",
    "            #With weights being close to 1e0, and learning rate being 2.5e-4, setting db threshold to 5e-2\n",
    "            #lr*dw will cause a change of around 1e-5 i.e. 0.001% which is a decent enough delta in final stages of algorithm.\n",
    "            if db>0.05:\n",
    "                print(\"Didn't converge. Increase lr, num_iter\")\n",
    "    return W, b, costs\n"
   ]
  },
  {
   "cell_type": "code",
   "execution_count": 13,
   "metadata": {},
   "outputs": [
    {
     "name": "stdout",
     "output_type": "stream",
     "text": [
      "[[24  4]\n",
      " [ 1 21]]\n",
      "0.9\n"
     ]
    }
   ],
   "source": [
    "W_final, b_final, costs = train_SGD(X_train, y_train, 200)\n",
    "\n",
    "acc, y_pred2 = validation(X_test, y_test, W_final, b_final)\n",
    "cm2 = confusion_matrix(y_test, y_pred2)\n",
    "print(cm2)\n",
    "print(acc)"
   ]
  },
  {
   "cell_type": "code",
   "execution_count": 14,
   "metadata": {},
   "outputs": [
    {
     "data": {
      "image/png": "[encoded data removed]",
      "text/plain": [
       "<Figure size 432x288 with 1 Axes>"
      ]
     },
     "metadata": {
      "needs_background": "light"
     },
     "output_type": "display_data"
    }
   ],
   "source": [
    "plt.plot(np.arange(0, len(costs)), costs)\n",
    "plt.xlabel('Epochs')\n",
    "plt.ylabel('Cost Function')\n",
    "plt.title('Cost Function vs Epochs SGD')\n",
    "plt.show()"
   ]
  }
 ],
 "metadata": {
  "kernelspec": {
   "display_name": "Python 3",
   "language": "python",
   "name": "python3"
  },
  "language_info": {
   "codemirror_mode": {
    "name": "ipython",
    "version": 3
   },
   "file_extension": ".py",
   "mimetype": "text/x-python",
   "name": "python",
   "nbconvert_exporter": "python",
   "pygments_lexer": "ipython3",
   "version": "3.7.3"
  }
 },
 "nbformat": 4,
 "nbformat_minor": 2
}
