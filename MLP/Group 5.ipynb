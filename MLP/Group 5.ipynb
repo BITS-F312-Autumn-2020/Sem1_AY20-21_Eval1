{
  "nbformat": 4,
  "nbformat_minor": 0,
  "metadata": {
    "colab": {
      "name": "Copy of MLP.ipynb",
      "provenance": [],
      "collapsed_sections": []
    },
    "kernelspec": {
      "name": "python3",
      "display_name": "Python 3"
    }
  },
  "cells": [
    {
      "cell_type": "code",
      "metadata": {
        "id": "yunq8LrgkZ2j",
        "colab_type": "code",
        "colab": {}
      },
      "source": [
        "import numpy as np\n",
        "import random\n",
        "\n",
        "class Perceptron:\n",
        "    \n",
        "    def __init__(self, num_weights,learning_rate=0.01, iterations=1000):\n",
        "        self.lr = learning_rate\n",
        "        self.n_iters = iterations\n",
        "        self.activation_func = self.sigmoid_func\n",
        "        # initialising weights to a random value\n",
        "        self.weights = np.random.randn(num_weights).reshape((num_weights,1))\n",
        "        self.bias = 0\n",
        "    \n",
        "    #implementation of sigmoid/logistic function which always returns a value between 0 and 1\n",
        "    def sigmoid_func(self, x):\n",
        "        z = 1/(1 + np.exp(-x))\n",
        "        return z\n",
        "\n",
        "    def fit(self, x, y ):\n",
        "        count, features = x.shape\n",
        "        self.weights = np.zeros(features)\n",
        "        self.bias = 0\n",
        "        \n",
        "        y1 = np.array([1 if i >= 0 else 0 for i in y])\n",
        "\n",
        "        for i in range(self.n_iters):\n",
        "            for idx, xi in enumerate(x):\n",
        "                out = np.dot(xi, self.weights) + self.bias\n",
        "                y_pred = self.activation_func(out)\n",
        "                update = self.lr * (y[idx] - y_pred)\n",
        "                self.weights += (update * xi)\n",
        "                self.bias += update\n",
        "   \n",
        "    def stochastic_fit(self, x, y ):\n",
        "        count, features = x.shape\n",
        "        self.weights = np.zeros(features)\n",
        "        self.bias = 0\n",
        "        \n",
        "        y1 = np.array([1 if i >= 0 else 0 for i in y])\n",
        "\n",
        "        l = len(x)-1\n",
        "        for i in range(self.n_iters):\n",
        "            curr = random.randint(0,l)\n",
        "            xi = x[curr]\n",
        "            out = np.dot(xi, self.weights) + self.bias\n",
        "            y_pred = self.activation_func(out)\n",
        "            update = self.lr * (y[curr] - y_pred)\n",
        "            self.weights += (update * xi)\n",
        "            self.bias += update\n",
        "\n",
        "    # find the predictions using the current state of weights\n",
        "    def predict(self, x):\n",
        "        out = np.dot(x, self.weights) + self.bias\n",
        "        y_pred = self.activation_func(out)\n",
        "        return y_pred\n",
        "    \n",
        "    def update_weight(self,wtchange):\n",
        "      self.weights+=wtchange\n",
        "\n",
        "    def get_weight(self):\n",
        "      return self.weights\n",
        "    \n",
        "    def set_weight(self,newWeight):\n",
        "      self.weights=newWeight     \n"
      ],
      "execution_count": null,
      "outputs": []
    },
    {
      "cell_type": "code",
      "metadata": {
        "id": "vO2MVmtrb47Y",
        "colab_type": "code",
        "colab": {}
      },
      "source": [
        "class Layer:\n",
        "\n",
        "    # initialize a layer with number of perceptrons, type of layer and input as parameters\n",
        "    def __init__(self,num_perceptrons,layer_type,input):\n",
        "      self.num_perceptrons=num_perceptrons\n",
        "      self.layer_type=layer_type\n",
        "      self.input=input\n",
        "      m,n=input.shape\n",
        "      self.perceptron_list=[]\n",
        "      for i in range(num_perceptrons):\n",
        "        if(self.layer_type==\"input\"):\n",
        "          p=Perceptron(1) # Input perceptron has only 1 weight\n",
        "        else:  \n",
        "          p=Perceptron(n) # Here, n is the number of weights that the perceptron has\n",
        "        self.perceptron_list.append(p)\n",
        "      self.output=self.generate_output(input)\n",
        "      self.delta=None\n",
        "\n",
        "    # function to calculate output of the layer in the form of a matrix  \n",
        "    def generate_output(self,input):\n",
        "      self.input=input\n",
        "      out=None\n",
        "      if (self.layer_type==\"input\"):\n",
        "        for idx,p in enumerate(self.perceptron_list): \n",
        "          out=input\n",
        "      else:\n",
        "        for idx,p in enumerate(self.perceptron_list): \n",
        "          o=p.predict(input)\n",
        "          if (out is None):\n",
        "            out=o\n",
        "          else:  \n",
        "            out=np.append(out,o,axis=1)\n",
        "      self.output=out\n",
        "      return out\n",
        "\n",
        "    # function to calculate local gradient(delta) of the layer in the form of a matrix\n",
        "    def generate_delta(self,target,N):\n",
        "      if (self.layer_type==\"output\"):\n",
        "        delta=None\n",
        "        # iterating through all perceptrons\n",
        "        for idx,p in enumerate(self.perceptron_list):\n",
        "          x=[]\n",
        "          # iterating through all inputs\n",
        "          for j in range(N):\n",
        "            t=target[:,idx][j]\n",
        "            y=self.get_output()[:,idx][j]\n",
        "            d=-1*(t-y)*y*(1-y)             #using formula\n",
        "            x.append(d)\n",
        "          col= np.transpose(np.array([x]))\n",
        "          if (delta is None):\n",
        "            delta=col\n",
        "          else:\n",
        "            delta = np.append(delta,col,axis=1)\n",
        "        self.delta=delta        \n",
        "\n",
        "    def get_output(self):\n",
        "      return self.output\n",
        "\n",
        "    def get_input(self):\n",
        "      return self.input\n",
        "\n",
        "    def get_delta(self):\n",
        "      return self.delta\n",
        "\n",
        "    def get_perceptron_list(self):\n",
        "      return self.perceptron_list\n",
        "\n",
        "    def set_delta(self,d):\n",
        "      self.delta=d \n",
        "\n",
        "    def get_type(self):\n",
        "      return self.layer_type \n",
        "\n",
        "    def get_num_perceptrons(self):\n",
        "      return self.num_perceptrons     \n",
        "\n",
        "                     \n",
        "\n"
      ],
      "execution_count": null,
      "outputs": []
    },
    {
      "cell_type": "code",
      "metadata": {
        "id": "7IWhnEx60rUP",
        "colab_type": "code",
        "colab": {}
      },
      "source": [
        "class MLP:\n",
        "  # MLP class stores all the layers\n",
        "  def __init__(self):\n",
        "    self.num_layers=0\n",
        "    self.layer_list=[]\n",
        "  \n",
        "  #function to add layer\n",
        "  def addLayer(self,layer):\n",
        "    self.layer_list.append(layer)\n",
        "    self.num_layers+=1\n",
        "  \n",
        "  # function to calculate local gradient(delta) of the hidden layer in the form of a matrix\n",
        "  def generate_delta_hidden(self,layer,idx,N):\n",
        "    nextLayer=self.layer_list[idx+1]\n",
        "    deltaNext=nextLayer.get_delta()\n",
        "    p_list=layer.get_perceptron_list()\n",
        "    p_next_list=nextLayer.get_perceptron_list()\n",
        "    d=None\n",
        "    # iterating through all perceptrons\n",
        "    for idx,p in enumerate(p_list):\n",
        "      arr=[]\n",
        "      # iterating through all inputs\n",
        "      for j in range(N):\n",
        "        weightedSum=0\n",
        "        for index,pnext in enumerate(p_next_list):         \n",
        "          weight=pnext.get_weight()\n",
        "          wt=weight[idx]\n",
        "          deltaVal=deltaNext[:,index][j]\n",
        "          x=wt*deltaVal\n",
        "          weightedSum+=x\n",
        "        y=layer.get_output()[:,idx][j]\n",
        "        z=y*(1-y)*weightedSum \n",
        "        arr.append(z)\n",
        "      \n",
        "      col=(np.array(arr))\n",
        "      if (d is None):\n",
        "        d=col\n",
        "      else:\n",
        "        d=np.append(d,col,axis=1)  \n",
        "    layer.set_delta(d)\n",
        "\n",
        "  def backpropagate(self,N,learning_rate):\n",
        "    for lIndex,l in enumerate(self.layer_list[::-1]):\n",
        "      if(l.get_type()!=\"input\"):\n",
        "        delta=l.get_delta()\n",
        "        y_input=l.get_input()\n",
        "        # iterating through all perceptrons\n",
        "        for idx,p in enumerate(l.get_perceptron_list()):\n",
        "          wtchange=[]\n",
        "          # iterating through all weights\n",
        "          for wIndex,w in enumerate(p.get_weight()):\n",
        "            gradient_sum=0\n",
        "            # iterating through all inputs\n",
        "            for j in range(N):\n",
        "              # gradient = local gradient * y\n",
        "              gradient=(delta[:,idx][j])*(y_input[:,wIndex][j]) \n",
        "              gradient_sum+=gradient\n",
        "            # average gradient will be used in the final calculation of change in weight\n",
        "            av_gradient=(gradient_sum/N) \n",
        "            # change in weight = - η*(average gradient)\n",
        "            deltaW=-1*learning_rate*av_gradient \n",
        "            wtchange.append(deltaW)  \n",
        "          wtchange_col= np.transpose(np.array([wtchange]))\n",
        "          p.update_weight(wtchange_col)  \n",
        "  \n",
        "  \n",
        "  def map_values(self,output,N):\n",
        "    m=[]\n",
        "    for j in range(N):\n",
        "      if (output[j]>=0.5):\n",
        "        m.append(1)\n",
        "      else:\n",
        "        m.append(0)\n",
        "    mcol=np.transpose(np.array([m])) \n",
        "    return mcol\n",
        "\n",
        "  # accuracy = true_predictions / total_predictions             \n",
        "  def accuracy(self,target,output,N):\n",
        "    y_pred=self.map_values(output,N)\n",
        "    corr = 0\n",
        "    for idx,pred_val in enumerate(y_pred):\n",
        "        if (target[idx] == pred_val):\n",
        "            corr = corr + 1\n",
        "    return (corr/N)*100\n",
        "\n",
        "          "
      ],
      "execution_count": null,
      "outputs": []
    },
    {
      "cell_type": "markdown",
      "metadata": {
        "id": "ktZnZYqEWWz7",
        "colab_type": "text"
      },
      "source": [
        "**Implementation of the homework given in slide 4**"
      ]
    },
    {
      "cell_type": "code",
      "metadata": {
        "id": "09dg8OJc9M15",
        "colab_type": "code",
        "colab": {}
      },
      "source": [
        ""
      ],
      "execution_count": null,
      "outputs": []
    },
    {
      "cell_type": "code",
      "metadata": {
        "id": "44zxsEx_09an",
        "colab_type": "code",
        "colab": {
          "base_uri": "https://localhost:8080/",
          "height": 296
        },
        "outputId": "74d70df7-d337-4678-dcc4-70642e1c7679"
      },
      "source": [
        "import matplotlib.pyplot as plt\n",
        "M1=MLP()\n",
        "inp=np.array([[0.23,0.82]])\n",
        "# initialising the layers\n",
        "l1=Layer(2,\"input\",inp)\n",
        "l2=Layer(2,\"hidden\",l1.get_output())\n",
        "l3=Layer(1,\"output\",l2.get_output())\n",
        "\n",
        "weightC=np.transpose(np.array([[0.1,0.4]]))\n",
        "weightD=np.transpose(np.array([[0.5,0.3]]))\n",
        "wlist=[weightC,weightD]\n",
        "weightE=np.transpose(np.array([[0.2,0.6]]))\n",
        "\n",
        "# setting the initial weights\n",
        "for idx,p in enumerate(l2.get_perceptron_list()):\n",
        "  p.set_weight(wlist[idx])\n",
        "\n",
        "for idx,p in enumerate(l3.get_perceptron_list()):\n",
        "  p.set_weight(weightE)\n",
        "\n",
        "# adding layers to the MLP\n",
        "M1.addLayer(l1)\n",
        "M1.addLayer(l2)\n",
        "M1.addLayer(l3)\n",
        "target=np.array([[1]])\n",
        "target=np.transpose(target)\n",
        "\n",
        "# training the MLP for 10 epochs\n",
        "lout=[]\n",
        "for i in range(300):\n",
        "  l1Out=l1.generate_output(inp)\n",
        "  l2Out=l2.generate_output(l1Out)\n",
        "  l3Out=l3.generate_output(l2Out)\n",
        "  # print(i,l1Out,l2Out,l3Out)\n",
        "  lout.append(l3Out[0][0])\n",
        "  l3.generate_delta(target,1)\n",
        "  M1.generate_delta_hidden(l2,1,1)\n",
        "  M1.backpropagate(1,0.7)\n",
        "# print(lout)\n",
        "plt.ylabel(\"output\")\n",
        "plt.xlabel(\"Number of iterations\")\n",
        "plt.plot(np.arange(0,300),lout)\n",
        "\n",
        "# print(np.shape(lout))\n",
        "# print(lout.shape)\n",
        "# print(len(lout))\n",
        "# plt.show()"
      ],
      "execution_count": null,
      "outputs": [
        {
          "output_type": "execute_result",
          "data": {
            "text/plain": [
              "[<matplotlib.lines.Line2D at 0x7fe9b37cf940>]"
            ]
          },
          "metadata": {
            "tags": []
          },
          "execution_count": 13
        },
        {
          "output_type": "display_data",
          "data": {
            "image/png": "[encoded data removed]",
            "text/plain": [
              "<Figure size 432x288 with 1 Axes>"
            ]
          },
          "metadata": {
            "tags": [],
            "needs_background": "light"
          }
        }
      ]
    },
    {
      "cell_type": "code",
      "metadata": {
        "id": "k8ERNqFmvdFW",
        "colab_type": "code",
        "colab": {}
      },
      "source": [
        "# from google.colab import files \n",
        "# uploaded = files.upload()"
      ],
      "execution_count": null,
      "outputs": []
    },
    {
      "cell_type": "code",
      "metadata": {
        "id": "w4jThRTTNbt3",
        "colab_type": "code",
        "colab": {
          "base_uri": "https://localhost:8080/",
          "height": 251
        },
        "outputId": "84298ae9-e95d-4728-b78b-833b6d233728"
      },
      "source": [
        "import pandas as pd \n",
        "import io \n",
        "  \n",
        "df = pd.read_csv('https://raw.githubusercontent.com/ABICHAL1708/mall_data/master/heart_disease_dataset_modified.csv')\n",
        "\n",
        "# normalising the data\n",
        "df_n = ((df-df.min())/(df.max()-df.min()))\n",
        "arr=np.array(df_n)\n",
        "print(df_n)\n",
        "# splitting the dataset into train and test data\n",
        "train_length2 = int(2*(len(arr)/3))\n",
        "cols2 = int(len(arr[0])-1)\n",
        "\n",
        "x_train2 = arr[:train_length2,:cols2]\n",
        "y_train2 = arr[:train_length2,cols2:]\n",
        "\n",
        "x_test2 = arr[train_length2:,:cols2]\n",
        "y_test2 = arr[train_length2:,cols2:]\n",
        "\n",
        "test_length2=len(y_test2)\n",
        "\n",
        "M2=MLP()\n",
        "\n",
        "# initialising the layers\n",
        "lay1=Layer(13,\"input\",x_train2)\n",
        "lay2=Layer(8,\"hidden\",lay1.get_output())\n",
        "lay3=Layer(4,\"hidden\",lay2.get_output())\n",
        "lay4=Layer(1,\"output\",lay3.get_output())\n",
        "\n",
        "# adding layers to the MLP\n",
        "M2.addLayer(lay1)\n",
        "M2.addLayer(lay2)\n",
        "M2.addLayer(lay3)\n",
        "M2.addLayer(lay4)\n",
        "\n",
        "# training the MLP for 1000 epochs\n",
        "for i in range(1000):\n",
        "  lay1Out=lay1.generate_output(x_train2)\n",
        "  lay2Out=lay2.generate_output(lay1Out)\n",
        "  lay3Out=lay3.generate_output(lay2Out)\n",
        "  lay4Out=lay4.generate_output(lay3Out)\n",
        "  lay4.generate_delta(y_train2,train_length2)\n",
        "  M2.generate_delta_hidden(lay3,2,train_length2)\n",
        "  M2.generate_delta_hidden(lay2,1,train_length2)\n",
        "  M2.backpropagate(train_length2,0.7)\n",
        "\n",
        "# predicting the output using test data\n",
        "lay1Out=lay1.generate_output(x_test2)\n",
        "lay2Out=lay2.generate_output(lay1Out)\n",
        "lay3Out=lay3.generate_output(lay2Out)\n",
        "lay4Out=lay4.generate_output(lay3Out)"
      ],
      "execution_count": null,
      "outputs": [
        {
          "output_type": "stream",
          "text": [
            "          age  sex        cp  trestbps  ...  slope        ca  thal  num\n",
            "0    0.708333  1.0  0.000000  0.481132  ...    1.0  0.000000  0.75  0.0\n",
            "1    0.791667  1.0  1.000000  0.622642  ...    0.5  1.000000  0.00  1.0\n",
            "2    0.791667  1.0  1.000000  0.245283  ...    0.5  0.666667  1.00  1.0\n",
            "3    0.166667  1.0  0.666667  0.339623  ...    1.0  0.000000  0.00  0.0\n",
            "4    0.250000  0.0  0.333333  0.339623  ...    0.0  0.000000  0.00  0.0\n",
            "..        ...  ...       ...       ...  ...    ...       ...   ...  ...\n",
            "298  0.333333  1.0  0.000000  0.150943  ...    0.5  0.000000  1.00  1.0\n",
            "299  0.812500  1.0  1.000000  0.471698  ...    0.5  0.666667  1.00  1.0\n",
            "300  0.583333  1.0  1.000000  0.339623  ...    0.5  0.333333  1.00  1.0\n",
            "301  0.583333  0.0  0.333333  0.339623  ...    0.5  0.333333  0.00  1.0\n",
            "302  0.187500  1.0  0.666667  0.415094  ...    0.0  0.000000  0.00  0.0\n",
            "\n",
            "[303 rows x 14 columns]\n"
          ],
          "name": "stdout"
        }
      ]
    },
    {
      "cell_type": "code",
      "metadata": {
        "id": "tj2XaPEIf3PL",
        "colab_type": "code",
        "colab": {
          "base_uri": "https://localhost:8080/",
          "height": 33
        },
        "outputId": "016b4367-cc0c-476e-bc52-66014acd893c"
      },
      "source": [
        "# Accuracy of the MLP\n",
        "print(\"Accuracy : \"+str(M2.accuracy(y_test2,lay4.get_output(),test_length2))) "
      ],
      "execution_count": null,
      "outputs": [
        {
          "output_type": "stream",
          "text": [
            "Accuracy : 79.20792079207921\n"
          ],
          "name": "stdout"
        }
      ]
    },
    {
      "cell_type": "markdown",
      "metadata": {
        "id": "wROIuEkdMk89",
        "colab_type": "text"
      },
      "source": [
        "**BATCH LEARNING**"
      ]
    },
    {
      "cell_type": "code",
      "metadata": {
        "id": "DfR0E1fmNqHx",
        "colab_type": "code",
        "colab": {
          "base_uri": "https://localhost:8080/",
          "height": 296
        },
        "outputId": "1dbc6a26-f8de-40fb-dc46-af38cb18b11b"
      },
      "source": [
        "# using a synthetic dataset which is normalised\n",
        "import sklearn\n",
        "from sklearn import datasets\n",
        "input3,target3=sklearn.datasets.make_classification(n_samples=100, n_features=10,random_state=1)\n",
        "target3=target3.reshape((100,1))\n",
        "\n",
        "# splitting the dataset into train and test data\n",
        "train_length3 = int(3*(len(input3)/4))\n",
        "\n",
        "x_train3 = input3[:train_length3,:]\n",
        "y_train3 = target3[:train_length3,:]\n",
        "\n",
        "x_test3 = input3[train_length3:,:]\n",
        "y_test3 = target3[train_length3:,:]\n",
        "test_length3=len(y_test3)\n",
        "\n",
        "M3=MLP()\n",
        "m3lay1=Layer(10,\"input\",x_train3)\n",
        "m3lay2=Layer(8,\"hidden\",m3lay1.get_output())\n",
        "m3lay3=Layer(4,\"hidden\",m3lay2.get_output())\n",
        "m3lay4=Layer(1,\"output\",m3lay3.get_output())\n",
        "M3.addLayer(m3lay1)\n",
        "M3.addLayer(m3lay2)\n",
        "M3.addLayer(m3lay3)\n",
        "M3.addLayer(m3lay4)\n",
        "lout3=[]\n",
        "number_of_iterations = 1500\n",
        "for i in range(number_of_iterations):\n",
        "  m3lay1Out=m3lay1.generate_output(x_train3)\n",
        "  m3lay2Out=m3lay2.generate_output(m3lay1Out)\n",
        "  m3lay3Out=m3lay3.generate_output(m3lay2Out)\n",
        "  m3lay4Out=m3lay4.generate_output(m3lay3Out)\n",
        "  lout3.append(m3lay4.get_output()[0][0])\n",
        "  m3lay4.generate_delta(y_train3,train_length3)\n",
        "  M3.generate_delta_hidden(m3lay3,2,train_length3)\n",
        "  M3.generate_delta_hidden(m3lay2,1,train_length3)\n",
        "  M3.backpropagate(train_length3,0.5)\n",
        "\n",
        "m3lay1Out=m3lay1.generate_output(x_test3)\n",
        "m3lay2Out=m3lay2.generate_output(m3lay1Out)\n",
        "m3lay3Out=m3lay3.generate_output(m3lay2Out)\n",
        "m3lay4Out=m3lay4.generate_output(m3lay3Out) \n",
        "plt.xlabel(\"Number of iterations\")\n",
        "plt.ylabel(\"Output\")\n",
        "plt.plot(np.arange(0,number_of_iterations),lout3) "
      ],
      "execution_count": null,
      "outputs": [
        {
          "output_type": "execute_result",
          "data": {
            "text/plain": [
              "[<matplotlib.lines.Line2D at 0x7fe9a596cf98>]"
            ]
          },
          "metadata": {
            "tags": []
          },
          "execution_count": 30
        },
        {
          "output_type": "display_data",
          "data": {
            "image/png": "[encoded data removed]",
            "text/plain": [
              "<Figure size 432x288 with 1 Axes>"
            ]
          },
          "metadata": {
            "tags": [],
            "needs_background": "light"
          }
        }
      ]
    },
    {
      "cell_type": "code",
      "metadata": {
        "id": "kc7bxdyTuYpf",
        "colab_type": "code",
        "colab": {}
      },
      "source": [
        "print(\"Accuracy of Batch Learning: \"+str(M3.accuracy(y_test3,m3lay4.get_output(),test_length3)))"
      ],
      "execution_count": null,
      "outputs": []
    },
    {
      "cell_type": "markdown",
      "metadata": {
        "id": "wYzp3s4GMaCY",
        "colab_type": "text"
      },
      "source": [
        "**ON-LINE LEARNING**"
      ]
    },
    {
      "cell_type": "code",
      "metadata": {
        "id": "mp7s0gWpDV-D",
        "colab_type": "code",
        "colab": {
          "base_uri": "https://localhost:8080/",
          "height": 296
        },
        "outputId": "0c16f402-8fb5-4fb5-bbbf-ab13265fddff"
      },
      "source": [
        "M4=MLP()\n",
        "m4lay1=Layer(10,\"input\",x_train3[0:1])\n",
        "m4lay2=Layer(8,\"hidden\",m4lay1.get_output())\n",
        "m4lay3=Layer(4,\"hidden\",m4lay2.get_output())\n",
        "m4lay4=Layer(1,\"output\",m4lay3.get_output())\n",
        "M4.addLayer(m4lay1)\n",
        "M4.addLayer(m4lay2)\n",
        "M4.addLayer(m4lay3)\n",
        "M4.addLayer(m4lay4)\n",
        "lout4=[]\n",
        "for i in range(5000):\n",
        "  rand_n= random.randint(0,train_length3-1)\n",
        "  online_x_train3=x_train3[rand_n:rand_n+1,:]\n",
        "  online_y_train3=y_train3[rand_n:rand_n+1,:]\n",
        "  m4lay1Out=m4lay1.generate_output(online_x_train3)\n",
        "  m4lay2Out=m4lay2.generate_output(m4lay1Out)\n",
        "  m4lay3Out=m4lay3.generate_output(m4lay2Out)\n",
        "  m4lay4Out=m4lay4.generate_output(m4lay3Out)\n",
        "  lout4.append(m4lay4.get_output()[0][0])\n",
        "  m4lay4.generate_delta(online_y_train3,1)\n",
        "  M4.generate_delta_hidden(m4lay3,2,1)\n",
        "  \n",
        "  M4.generate_delta_hidden(m4lay2,1,1)\n",
        "  M4.backpropagate(1,0.09)\n",
        "m4lay1Out=m4lay1.generate_output(x_test3)\n",
        "m4lay2Out=m4lay2.generate_output(m4lay1Out)\n",
        "m4lay3Out=m4lay3.generate_output(m4lay2Out)\n",
        "m4lay4Out=m4lay4.generate_output(m4lay3Out)\n",
        "plt.xlabel(\"Number of iterations\")\n",
        "plt.ylabel(\"Output\")\n",
        "plt.plot(np.arange(0,5000),lout4)\n",
        "\n"
      ],
      "execution_count": null,
      "outputs": [
        {
          "output_type": "execute_result",
          "data": {
            "text/plain": [
              "[<matplotlib.lines.Line2D at 0x7fe9a57ee908>]"
            ]
          },
          "metadata": {
            "tags": []
          },
          "execution_count": 31
        },
        {
          "output_type": "display_data",
          "data": {
            "image/png": "[encoded data removed]",
            "text/plain": [
              "<Figure size 432x288 with 1 Axes>"
            ]
          },
          "metadata": {
            "tags": [],
            "needs_background": "light"
          }
        }
      ]
    },
    {
      "cell_type": "code",
      "metadata": {
        "id": "7kfdMUTsO5kX",
        "colab_type": "code",
        "colab": {}
      },
      "source": [
        "print(\"Accuracy of On-Line Learning: \"+str(M4.accuracy(y_test3,m4lay4.get_output(),test_length3)))"
      ],
      "execution_count": null,
      "outputs": []
    },
    {
      "cell_type": "markdown",
      "metadata": {
        "id": "H3lsMuK5U1TL",
        "colab_type": "text"
      },
      "source": [
        "## References\n",
        "Heart Disease Dataset: https://www.mldata.io/dataset-details/heart_disease/\n",
        "\n",
        "Code Implementation Reference: https://medium.com/@vdpatel/implementing-a-multi-layer-perceptron-neural-network-in-python-b22b5a3bdfa3"
      ]
    },
    {
      "cell_type": "code",
      "metadata": {
        "id": "3CMeGgaHCVea",
        "colab_type": "code",
        "colab": {}
      },
      "source": [
        ""
      ],
      "execution_count": null,
      "outputs": []
    }
  ]
}